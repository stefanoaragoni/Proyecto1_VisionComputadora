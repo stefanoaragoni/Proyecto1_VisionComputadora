{
 "cells": [
  {
   "cell_type": "markdown",
   "metadata": {},
   "source": [
    "## ***Visión por Computadora - 2024***\n",
    "\n",
    "Stefano Aragoni, Carol Arévalo, José González, Luis Santos\n",
    "\n",
    "-----------\n",
    "\n",
    "### *Proyecto 01 - Problema 1*\n",
    "\n",
    "A partir de las imágenes groundtruth, construir un algoritmo que genere una discretización de la estructura arterial. Representaremos esta discretizaiónn mediante un grafo de vértices y aristas que conectan dichos vértices.\n",
    "\n",
    "Su algoritmo debe recibir como input la imagen groundtruth, y los par´ametros espec´ıficos que sus m´etodos y estrategias requieran.\n",
    "\n",
    "Como salida, el algoritmo debe devolver lo siguiente:\n",
    "\n",
    "1.) Un archivo estructurado (puede ser en formato .json, .yml, o similares), en donde se especifica la estructura del grafo\n",
    "obtenido:\n",
    "- listado de nodos, y sus coordenadas (fila, columna) dentro de la imagen groundtruth.\n",
    "- listado de nodos extremos (indicados en verde en la figura).\n",
    "- listado de nodos de bifurcación (indicados en rojo en la figura).\n",
    "- listado de nodos de trifurcación (indicados en azul, en la figura no hay).\n",
    "- listado de nodos intermedios (indicados en gris en la figura). Estos nodos se añaden a conveniencia, para mantener el grafo resultante lo más similar a la estructura arterial en la imagen.\n",
    "- listado de aristas conectoras que conforman el grafo (indicadas en amarillo en la imagen).\n",
    "\n",
    "2.) Una imagen que guarde la visualización del grafo obtenido.\n",
    "\n",
    "\n",
    "\n"
   ]
  },
  {
   "cell_type": "markdown",
   "metadata": {},
   "source": [
    "-----------\n",
    "\n",
    "#### *Importar librerías*\n",
    "\n",
    "Como primer paso, se importan las librerías necesarias para el desarrollo del problema."
   ]
  },
  {
   "cell_type": "code",
   "execution_count": null,
   "metadata": {},
   "outputs": [],
   "source": [
    "import os\n",
    "\n",
    "import matplotlib.pyplot as plt\n",
    "import numpy as np\n",
    "\n",
    "import cv2\n",
    "from scipy import ndimage\n",
    "from PIL import Image\n",
    "\n",
    "from skimage import io, color, filters, feature, morphology, exposure, util\n",
    "from skimage.measure import label, regionprops\n",
    "from skimage.color import label2rgb\n",
    "from skimage.util import invert\n",
    "from skimage.filters import threshold_otsu, gaussian, threshold_local\n",
    "from skimage.morphology import binary_opening, binary_closing, binary_dilation, binary_erosion, disk, remove_small_objects\n",
    "from skimage.graph import route_through_array\n",
    "\n",
    "\n",
    "from prettytable import PrettyTable\n",
    "from sklearn.metrics import accuracy_score, recall_score, precision_score, f1_score, confusion_matrix"
   ]
  },
  {
   "cell_type": "markdown",
   "metadata": {},
   "source": [
    "---------\n",
    "\n",
    "#### *Cargar imágenes*\n",
    "\n",
    "Luego, se procede a cargar las imágenes que se utilizarán para el desarrollo del problema."
   ]
  },
  {
   "cell_type": "markdown",
   "metadata": {},
   "source": [
    "- Para llevar a cabo este proceso, se definió una función llamada `load_images`. Esta recibe como parámetro el nombre de la imagen a cargar y retorna la imagen en escala de grises."
   ]
  },
  {
   "cell_type": "code",
   "execution_count": null,
   "metadata": {},
   "outputs": [],
   "source": [
    "def load_image(name_of_image):\n",
    "\n",
    "    # Definir el directorio de la base de datos\n",
    "    directory = \"./database\"\n",
    "\n",
    "    # Importar imagen en escala de grises\n",
    "    image = cv2.imread(os.path.join(directory, name_of_image), cv2.IMREAD_GRAYSCALE)\n",
    "\n",
    "    #Retornar imagen\n",
    "    return image"
   ]
  },
  {
   "cell_type": "markdown",
   "metadata": {},
   "source": [
    "- Posteriormente, se definió un ciclo `for` para cargar las 40 imágenes que se utilizarán para el desarrollo del problema."
   ]
  },
  {
   "cell_type": "code",
   "execution_count": null,
   "metadata": {},
   "outputs": [],
   "source": [
    "# Array para almacenar las imagenes groundtruth\n",
    "groundtruth_images = []\n",
    "processed_images = []\n",
    "\n",
    "# Cargar imagenes\n",
    "for i in range(1, 21):\n",
    "    \n",
    "    groundtruth = f\"{i}_gt.pgm\"\n",
    "\n",
    "    gt = load_image(groundtruth) > 0\n",
    "    groundtruth_images.append(gt)"
   ]
  },
  {
   "cell_type": "markdown",
   "metadata": {},
   "source": [
    "- Finalmente, se programó una función para mostrar las imágenes cargadas."
   ]
  },
  {
   "cell_type": "code",
   "execution_count": null,
   "metadata": {},
   "outputs": [],
   "source": [
    "\n",
    "num_rows = 4\n",
    "num_cols = 5\n",
    "fig, axes = plt.subplots(num_rows, num_cols, figsize=(20, 10))\n",
    "\n",
    "# Contador de subfiguras\n",
    "index = 0\n",
    "\n",
    "# Iterar sobre las imágenes y mostrarlas en la cuadrícula\n",
    "for i in range(0, 20):  \n",
    "    groundtruth_img = groundtruth_images[i]\n",
    "\n",
    "    # Mostrar imagen groundtruth\n",
    "    axes[index // num_cols, index % num_cols].imshow(groundtruth_img, cmap='gray')\n",
    "    axes[index // num_cols, index % num_cols].axis('off')\n",
    "    axes[index // num_cols, index % num_cols].set_title(f'Arteria {i + 1} (GT)')\n",
    "\n",
    "    # Aumentar el contador de subfiguras\n",
    "    index += 1  \n",
    "\n",
    "# Ajustar el espacio entre las subfiguras\n",
    "plt.tight_layout()\n",
    "\n",
    "plt.show()\n"
   ]
  },
  {
   "cell_type": "markdown",
   "metadata": {},
   "source": [
    "*Como se puede observar, hay varias imágenes originales en las que se ve el borde del microscopio (contornos negros en las esquinas). Asimismo, hay varias imágenes con manchas y sombras que pueden afectar el proceso de binarización. Como resultado, será necesario pre-procesar las imágenes.*"
   ]
  },
  {
   "cell_type": "markdown",
   "metadata": {},
   "source": [
    "---------\n",
    "\n",
    "#### *Pre-Procesamiento de Imágenes*\n",
    "\n",
    "Posteriormente, se procede eliminar artefactos y ruido de las imágenes. "
   ]
  },
  {
   "cell_type": "markdown",
   "metadata": {},
   "source": [
    "- Como primer punto, se procede a aplicar un filtro gaussiano para suavizar la imagen y luego umbralizarla para obtener una imagen binaria que separe las arterias del fondo. Esto para binarizar la imagen, manteniendo las arterias y eliminando el fondo."
   ]
  },
  {
   "cell_type": "code",
   "execution_count": null,
   "metadata": {},
   "outputs": [],
   "source": [
    "# Aplicar un filtro gaussiano para suavizar la imagen\n",
    "smoothed_images = [gaussian(image, sigma=1) for image in groundtruth_images]\n",
    "\n",
    "# Aplicar umbralización para convertir las imágenes a binario\n",
    "# Este umbral puede ser global (simple) o adaptativo (local) dependiendo de las imágenes\n",
    "thresholded_images = [image > threshold_otsu(image) for image in smoothed_images]\n",
    "\n",
    "# Mostrar las imágenes pre-procesadas\n",
    "num_rows = 4\n",
    "num_cols = 5\n",
    "fig, axes = plt.subplots(num_rows, num_cols, figsize=(20, 10))\n",
    "\n",
    "# Contador de subfiguras\n",
    "index = 0\n",
    "\n",
    "# Iterar sobre las imágenes pre-procesadas y mostrarlas en la cuadrícula\n",
    "for i in range(20):  \n",
    "    # Mostrar imagen pre-procesada\n",
    "    axes[index // num_cols, index % num_cols].imshow(thresholded_images[i], cmap='gray')\n",
    "    axes[index // num_cols, index % num_cols].axis('off')\n",
    "    axes[index // num_cols, index % num_cols].set_title(f'Arteria {i + 1} (Pre-procesada)')\n",
    "\n",
    "    # Aumentar el contador de subfiguras\n",
    "    index += 1  \n",
    "\n",
    "# Ajustar el espacio entre las subfiguras\n",
    "plt.tight_layout()\n",
    "plt.show()\n"
   ]
  },
  {
   "cell_type": "markdown",
   "metadata": {},
   "source": [
    "---------\n",
    "\n",
    "#### *Detección de características*\n",
    "\n",
    "Detectar puntos extremos, bifurcaciones y posiblemente trifurcaciones usando la transformada de Hough para detectar curvas o utilizando un análisis de la estructura de la imagen (como el análisis de esqueleto)."
   ]
  },
  {
   "cell_type": "markdown",
   "metadata": {},
   "source": [
    "- Esqueletización: Se convierten las arterias a su forma esquelética, que es una representación de un píxel de ancho de las arterias."
   ]
  },
  {
   "cell_type": "code",
   "execution_count": null,
   "metadata": {},
   "outputs": [],
   "source": [
    "from skimage.morphology import skeletonize\n",
    "\n",
    "skeleton_images = [skeletonize(image) for image in thresholded_images]\n",
    "\n",
    "# Mostrar las imágenes esqueletizadas\n",
    "num_rows = 4\n",
    "num_cols = 5\n",
    "fig, axes = plt.subplots(num_rows, num_cols, figsize=(20, 10))\n",
    "\n",
    "# Contador de subfiguras\n",
    "index = 0\n",
    "\n",
    "# Iterar sobre las imágenes esqueletizadas y mostrarlas en la cuadrícula\n",
    "for i in range(20):  # Asumiendo que hay 20 imágenes\n",
    "    # Mostrar imagen esqueletizada\n",
    "    axes[index // num_cols, index % num_cols].imshow(skeleton_images[i], cmap='gray')\n",
    "    axes[index // num_cols, index % num_cols].axis('off')\n",
    "    axes[index // num_cols, index % num_cols].set_title(f'Arteria {i + 1} (Esqueleto)')\n",
    "\n",
    "    # Aumentar el contador de subfiguras\n",
    "    index += 1  \n",
    "\n",
    "# Ajustar el espacio entre las subfiguras\n",
    "plt.tight_layout()\n",
    "plt.show()\n"
   ]
  },
  {
   "cell_type": "markdown",
   "metadata": {},
   "source": [
    "- Análisis de esqueleto: Se analiza el esqueleto para identificar nodos y conexiones. Los puntos de bifurcación son puntos donde un píxel tiene más de dos vecinos en el esqueleto, y los puntos extremos son aquellos que solo tienen un vecino."
   ]
  },
  {
   "cell_type": "code",
   "execution_count": null,
   "metadata": {},
   "outputs": [],
   "source": [
    "# Función para encontrar puntos de bifurcación y extremos en el esqueleto\n",
    "def analyze_skeleton(skeleton):\n",
    "    # Preparar arrays para almacenar las coordenadas de los puntos\n",
    "    bifurcation_points = []\n",
    "    endpoint_points = []\n",
    "    \n",
    "    # Obtener las dimensiones de la imagen\n",
    "    dimensions = skeleton.shape\n",
    "    \n",
    "    # Analizar cada píxel del esqueleto\n",
    "    for i in range(1, dimensions[0]-1):\n",
    "        for j in range(1, dimensions[1]-1):\n",
    "            # Contar los vecinos del píxel\n",
    "            p = skeleton[i, j]\n",
    "            neighbors = skeleton[i-1:i+2, j-1:j+2].sum() - p\n",
    "            # Si el píxel es parte del esqueleto y tiene exactamente un vecino, es un extremo\n",
    "            if p == 1 and neighbors == 1:\n",
    "                endpoint_points.append((j, i))\n",
    "            # Si el píxel es parte del esqueleto y tiene tres o más vecinos, es una bifurcación\n",
    "            elif p == 1 and neighbors >= 3:\n",
    "                bifurcation_points.append((j, i))\n",
    "    \n",
    "    return bifurcation_points, endpoint_points\n",
    "\n",
    "# Encontrar puntos de bifurcación y extremos\n",
    "\n",
    "analized_skeleton_images = [analyze_skeleton(image) for image in skeleton_images]\n",
    "\n",
    "# Mostrar las imágenes esqueletizadas con puntos de bifurcación y extremos\n",
    "num_rows = 4\n",
    "num_cols = 5\n",
    "fig, axes = plt.subplots(num_rows, num_cols, figsize=(20, 10))\n",
    "\n",
    "# Contador de subfiguras\n",
    "index = 0\n",
    "\n",
    "# Iterar sobre las imágenes esqueletizadas y mostrarlas en la cuadrícula\n",
    "for i in range(20):  # Asumiendo que hay 20 imágenes\n",
    "    skeleton_image = skeleton_images[i]  # Esta es la imagen esqueletizada\n",
    "    bifurcations, endpoints = analized_skeleton_images[i]  # Estos son los puntos detectados\n",
    "\n",
    "    # Mostrar imagen esqueletizada\n",
    "    axes[index // num_cols, index % num_cols].imshow(skeleton_image, cmap='gray')\n",
    "    axes[index // num_cols, index % num_cols].scatter(*zip(*bifurcations), color='red')\n",
    "    axes[index // num_cols, index % num_cols].scatter(*zip(*endpoints), color='green')\n",
    "    axes[index // num_cols, index % num_cols].axis('off')\n",
    "    axes[index // num_cols, index % num_cols].set_title(f'Arteria {i + 1} (Esqueleto)')\n",
    "\n",
    "    # Aumentar el contador de subfiguras\n",
    "    index += 1  \n",
    "\n",
    "# Ajustar el espacio entre las subfiguras\n",
    "plt.tight_layout()\n",
    "plt.show()"
   ]
  },
  {
   "cell_type": "markdown",
   "metadata": {},
   "source": [
    "- Añadir nodos intermedios: Se añaden nodos intermedios a lo largo de los segmentos arteriales para preservar la geometría de la arteria en el grafo."
   ]
  },
  {
   "cell_type": "code",
   "execution_count": null,
   "metadata": {},
   "outputs": [],
   "source": []
  },
  {
   "cell_type": "markdown",
   "metadata": {},
   "source": [
    "---------\n",
    "\n",
    "#### *Construcción del grafo:*\n",
    "Se utilizan los puntos identificados para construir un grafo en formato json\n"
   ]
  },
  {
   "cell_type": "code",
   "execution_count": null,
   "metadata": {},
   "outputs": [],
   "source": []
  }
 ],
 "metadata": {
  "kernelspec": {
   "display_name": "Python 3",
   "language": "python",
   "name": "python3"
  },
  "language_info": {
   "codemirror_mode": {
    "name": "ipython",
    "version": 3
   },
   "file_extension": ".py",
   "mimetype": "text/x-python",
   "name": "python",
   "nbconvert_exporter": "python",
   "pygments_lexer": "ipython3",
   "version": "3.11.0"
  }
 },
 "nbformat": 4,
 "nbformat_minor": 2
}
