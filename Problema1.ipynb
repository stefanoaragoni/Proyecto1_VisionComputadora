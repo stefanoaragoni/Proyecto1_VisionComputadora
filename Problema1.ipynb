{
 "cells": [
  {
   "cell_type": "markdown",
   "metadata": {},
   "source": [
    "## ***Visión por Computadora - 2024***\n",
    "\n",
    "Stefano Aragoni, Carol Arévalo, José González, Luis Santos\n",
    "\n",
    "-----------\n",
    "\n",
    "### *Proyecto 01 - Problema 1*\n",
    "\n",
    "Deberá implementar algoritmos de binarización que logren reconocer la estructura arterial principal en las imágenes originales. Usted puede elegir cualquier algoritmos de binarización (global o local) de su interés. Pueden ser algoritmos vistos en clase, o puede intentar implementar cualquier otros algoritmo. En cualquier caso, asegúrese de indicar las referencias y fuentes investigadas.\n",
    "\n",
    "Su algoritmo debe recibir como input la imagen a binarizar, y los parámetros específicos que su método requiera. Como salida, el algoritmo debe devolver una imagen binaria, del mismo tamaño de la imagen input, con la estructura arterial resultante."
   ]
  },
  {
   "cell_type": "markdown",
   "metadata": {},
   "source": [
    "-----------\n",
    "\n",
    "#### *Importar librerías*\n",
    "\n",
    "Como primer paso, se importan las librerías necesarias para el desarrollo del problema."
   ]
  },
  {
   "cell_type": "code",
   "execution_count": 1,
   "metadata": {},
   "outputs": [],
   "source": [
    "import os\n",
    "\n",
    "import matplotlib.pyplot as plt\n",
    "import numpy as np\n",
    "\n",
    "import cv2\n",
    "from scipy import ndimage\n",
    "\n",
    "from skimage import io, color, filters, feature, morphology, exposure, util\n",
    "from skimage.measure import label, regionprops\n",
    "from skimage.color import label2rgb\n",
    "from skimage.util import invert\n",
    "from skimage.filters import threshold_otsu, gaussian\n",
    "from skimage.morphology import binary_opening, binary_closing, binary_dilation, binary_erosion, disk, remove_small_objects"
   ]
  },
  {
   "cell_type": "markdown",
   "metadata": {},
   "source": [
    "#### *Cargar imágenes*\n",
    "\n",
    "Luego, se procede a cargar las imágenes que se utilizarán para el desarrollo del problema."
   ]
  },
  {
   "cell_type": "markdown",
   "metadata": {},
   "source": [
    "- Para llevar a cabo este proceso, se definió una función llamada `load_images`. Esta recibe como parámetro el nombre de la imagen a cargar y retorna la imagen en escala de grises."
   ]
  },
  {
   "cell_type": "code",
   "execution_count": 2,
   "metadata": {},
   "outputs": [],
   "source": [
    "def load_image(name_of_image):\n",
    "\n",
    "    # Definir el directorio de la base de datos\n",
    "    directory = \"./database\"\n",
    "\n",
    "    # Importar imagen en escala de grises\n",
    "    image = cv2.imread(os.path.join(directory, name_of_image), cv2.IMREAD_GRAYSCALE)\n",
    "\n",
    "    #Retornar imagen\n",
    "    return image"
   ]
  },
  {
   "cell_type": "markdown",
   "metadata": {},
   "source": [
    "- Posteriormente, se definió un ciclo `for` para cargar las 40 imágenes que se utilizarán para el desarrollo del problema."
   ]
  },
  {
   "cell_type": "code",
   "execution_count": 5,
   "metadata": {},
   "outputs": [],
   "source": [
    "# Diccionario para almacenar las imagenes originales y groundtruth\n",
    "original_images = {}\n",
    "groundtruth_images = {}\n",
    "\n",
    "# Cargar imagenes\n",
    "for i in range(1, 21):\n",
    "    \n",
    "    original = f\"{i}.pgm\"\n",
    "    groundtruth = f\"{i}_gt.pgm\"\n",
    "\n",
    "    # Leer imágenes con función load_image y almacenarlas en el diccionario\n",
    "    original_images[original] = load_image(original)\n",
    "    groundtruth_images[groundtruth] = load_image(groundtruth)"
   ]
  },
  {
   "cell_type": "markdown",
   "metadata": {},
   "source": [
    "- Finalmente, se programó una función para mostrar las imágenes cargadas."
   ]
  },
  {
   "cell_type": "code",
   "execution_count": null,
   "metadata": {},
   "outputs": [],
   "source": []
  }
 ],
 "metadata": {
  "kernelspec": {
   "display_name": "Python 3",
   "language": "python",
   "name": "python3"
  },
  "language_info": {
   "codemirror_mode": {
    "name": "ipython",
    "version": 3
   },
   "file_extension": ".py",
   "mimetype": "text/x-python",
   "name": "python",
   "nbconvert_exporter": "python",
   "pygments_lexer": "ipython3",
   "version": "3.9.2"
  }
 },
 "nbformat": 4,
 "nbformat_minor": 2
}
